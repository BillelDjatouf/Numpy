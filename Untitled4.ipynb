{
 "cells": [
  {
   "cell_type": "code",
   "execution_count": 16,
   "id": "322861e8",
   "metadata": {},
   "outputs": [
    {
     "name": "stdout",
     "output_type": "stream",
     "text": [
      "[[7 6 0 2 7 7 5 8 8 7]]\n",
      "[[7, 6, 0, 2, 7, 7, 5, 8, 8, 7]]\n"
     ]
    }
   ],
   "source": [
    "import numpy as np\n",
    "array1=np.random.randint(0,10, size=(1,10))\n",
    "print(array1)\n",
    "l1 = array1.tolist()\n",
    "print(l1)"
   ]
  },
  {
   "cell_type": "code",
   "execution_count": null,
   "id": "728d663b",
   "metadata": {},
   "outputs": [],
   "source": []
  },
  {
   "cell_type": "code",
   "execution_count": 2,
   "id": "9672a73a",
   "metadata": {},
   "outputs": [
    {
     "name": "stdout",
     "output_type": "stream",
     "text": [
      "[[1 2]\n",
      " [3 5]]\n",
      "The number superior to X are: \n",
      "[3 5]\n"
     ]
    }
   ],
   "source": [
    "import numpy as np\n",
    "a = np.array([[1,2],[3,5]])\n",
    "print(a)\n",
    "print(\"The number superior to X are: \")\n",
    "print(a[a>2])"
   ]
  },
  {
   "cell_type": "code",
   "execution_count": null,
   "id": "24949550",
   "metadata": {},
   "outputs": [],
   "source": []
  },
  {
   "cell_type": "code",
   "execution_count": 3,
   "id": "0236d85b",
   "metadata": {},
   "outputs": [
    {
     "name": "stdout",
     "output_type": "stream",
     "text": [
      "[[2 4 6]\n",
      " [3 3 8]]\n",
      "5\n"
     ]
    }
   ],
   "source": [
    "import numpy as np\n",
    "m = np.random.randint(0,10, size=(2,3))\n",
    "print(m)\n",
    "result =  np.trace(m)\n",
    "print(result)"
   ]
  },
  {
   "cell_type": "code",
   "execution_count": null,
   "id": "38d3d625",
   "metadata": {},
   "outputs": [],
   "source": []
  },
  {
   "cell_type": "code",
   "execution_count": 34,
   "id": "a3b090ba",
   "metadata": {},
   "outputs": [
    {
     "name": "stdout",
     "output_type": "stream",
     "text": [
      "[[5 9 0]\n",
      " [8 1 9]]\n",
      "-10.666666666666668\n"
     ]
    }
   ],
   "source": [
    "def sum_of_list(l):\n",
    "    total = 0\n",
    "    for val in l:\n",
    "        total = total - val\n",
    "    return total\n",
    "\n",
    "import numpy as np\n",
    "m1 = np.random.randint(0,10, size=(2,3))\n",
    "print(m1)\n",
    "m2 = m1.mean(axis=1)\n",
    "m2.tolist()\n",
    "print(sum_of_list(m2))\n"
   ]
  },
  {
   "cell_type": "code",
   "execution_count": null,
   "id": "a613d028",
   "metadata": {},
   "outputs": [],
   "source": []
  },
  {
   "cell_type": "code",
   "execution_count": null,
   "id": "05081494",
   "metadata": {},
   "outputs": [],
   "source": []
  }
 ],
 "metadata": {
  "kernelspec": {
   "display_name": "Python 3 (ipykernel)",
   "language": "python",
   "name": "python3"
  },
  "language_info": {
   "codemirror_mode": {
    "name": "ipython",
    "version": 3
   },
   "file_extension": ".py",
   "mimetype": "text/x-python",
   "name": "python",
   "nbconvert_exporter": "python",
   "pygments_lexer": "ipython3",
   "version": "3.9.12"
  }
 },
 "nbformat": 4,
 "nbformat_minor": 5
}
